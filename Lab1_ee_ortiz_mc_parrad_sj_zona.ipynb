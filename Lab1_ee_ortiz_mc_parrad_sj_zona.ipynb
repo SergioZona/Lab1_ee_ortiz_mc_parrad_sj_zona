{
 "cells": [
  {
   "cell_type": "markdown",
   "id": "497T5nW-MzMF",
   "metadata": {
    "id": "497T5nW-MzMF"
   },
   "source": [
    "# **Laboratorio 1**\n",
    "### **Integrantes:**\n",
    "* Maria Camila Parra Díaz (201819464)\n",
    "* Esteban Emmanuel Ortiz Morales (201913613)  \n",
    "* Sergio Julian Zona Moreno (201914936)"
   ]
  },
  {
   "cell_type": "code",
   "execution_count": null,
   "id": "0e68c6ad-2a15-424b-937f-c96e98ff6b08",
   "metadata": {
    "id": "0e68c6ad-2a15-424b-937f-c96e98ff6b08"
   },
   "outputs": [],
   "source": [
    "# Declaración de la semilla\n",
    "seed = 161\n",
    "\n",
    "# Librerías para manejo de datos\n",
    "import pandas as pd\n",
    "pd.set_option('display.max_columns', 25) # Número máximo de columnas a mostrar\n",
    "pd.set_option('display.max_rows', 50) # Numero máximo de filas a mostar\n",
    "\n",
    "import numpy as np\n",
    "np.random.seed(seed)\n",
    "\n",
    "# Para preparar los datos\n",
    "# ------------------------\n",
    "from sklearn import tree as tr\n",
    "from sklearn.preprocessing import LabelEncoder\n",
    "# Para crear el arbol de decisión \n",
    "from sklearn.tree import DecisionTreeClassifier \n",
    "# Para usar KNN como clasificador\n",
    "from sklearn.neighbors import KNeighborsClassifier\n",
    "# Para realizar la separación del conjunto de aprendizaje en entrenamiento y test.\n",
    "from sklearn.model_selection import train_test_split\n",
    "# Para evaluar el modelo\n",
    "from sklearn.metrics import confusion_matrix, classification_report, precision_score, recall_score, f1_score, accuracy_score\n",
    "from sklearn.metrics import plot_confusion_matrix\n",
    "# Para búsqueda de hiperparámetros\n",
    "from sklearn.model_selection import GridSearchCV\n",
    "# Para la validación cruzada\n",
    "from sklearn.model_selection import KFold \n",
    "\n",
    "#Librerías para la visualización\n",
    "# -------------------------\n",
    "import matplotlib.pyplot as plt\n",
    "# Seaborn\n",
    "import seaborn as sns "
   ]
  },
  {
   "cell_type": "code",
   "execution_count": null,
   "id": "cda3b693-62f8-4943-ad37-04655c8f87b2",
   "metadata": {
    "id": "cda3b693-62f8-4943-ad37-04655c8f87b2"
   },
   "outputs": [],
   "source": [
    "# Se cargan los datos. \n",
    "df_health=pd.read_csv('202120_Laboratorio_1_datos_SaludAlpes_diagnosticos_dataset.csv', sep=';', encoding = 'utf-8', index_col=False)\n",
    "\n",
    "# Se reemplazan los espacios de los nombres de las columnas por '_'\n",
    "df_health.columns = df_health.columns.str.replace(' ', '')"
   ]
  },
  {
   "cell_type": "code",
   "execution_count": null,
   "id": "3f2af26f-6fae-43a4-94f8-795b1e6d6238",
   "metadata": {
    "colab": {
     "base_uri": "https://localhost:8080/"
    },
    "id": "3f2af26f-6fae-43a4-94f8-795b1e6d6238",
    "outputId": "e86efde4-de7c-42da-8946-1e2738e91258"
   },
   "outputs": [
    {
     "data": {
      "text/plain": [
       "(768, 11)"
      ]
     },
     "execution_count": 18,
     "metadata": {},
     "output_type": "execute_result"
    }
   ],
   "source": [
    "# Cantidad de datos y número de variables\n",
    "df_health.shape"
   ]
  },
  {
   "cell_type": "code",
   "execution_count": null,
   "id": "cf0b5b5b-6bcc-4de2-8a35-5401795f9b2c",
   "metadata": {
    "colab": {
     "base_uri": "https://localhost:8080/",
     "height": 309
    },
    "id": "cf0b5b5b-6bcc-4de2-8a35-5401795f9b2c",
    "outputId": "bf0ad07a-7b6d-4af1-964f-6429a5f8b44e"
   },
   "outputs": [
    {
     "data": {
      "text/html": [
       "<div>\n",
       "<style scoped>\n",
       "    .dataframe tbody tr th:only-of-type {\n",
       "        vertical-align: middle;\n",
       "    }\n",
       "\n",
       "    .dataframe tbody tr th {\n",
       "        vertical-align: top;\n",
       "    }\n",
       "\n",
       "    .dataframe thead th {\n",
       "        text-align: right;\n",
       "    }\n",
       "</style>\n",
       "<table border=\"1\" class=\"dataframe\">\n",
       "  <thead>\n",
       "    <tr style=\"text-align: right;\">\n",
       "      <th></th>\n",
       "      <th>Haircolor</th>\n",
       "      <th>Pregnancies</th>\n",
       "      <th>Glucose</th>\n",
       "      <th>City</th>\n",
       "      <th>BloodPressure</th>\n",
       "      <th>SkinThickness</th>\n",
       "      <th>Insulin</th>\n",
       "      <th>BMI</th>\n",
       "      <th>DiabetesPedigreeFunction</th>\n",
       "      <th>Age</th>\n",
       "      <th>Outcome</th>\n",
       "    </tr>\n",
       "  </thead>\n",
       "  <tbody>\n",
       "    <tr>\n",
       "      <th>0</th>\n",
       "      <td>Red</td>\n",
       "      <td>6</td>\n",
       "      <td>148</td>\n",
       "      <td>New York</td>\n",
       "      <td>72</td>\n",
       "      <td>35</td>\n",
       "      <td>0</td>\n",
       "      <td>336</td>\n",
       "      <td>627</td>\n",
       "      <td>50</td>\n",
       "      <td>1</td>\n",
       "    </tr>\n",
       "    <tr>\n",
       "      <th>1</th>\n",
       "      <td>Black</td>\n",
       "      <td>1</td>\n",
       "      <td>85</td>\n",
       "      <td>New York</td>\n",
       "      <td>66</td>\n",
       "      <td>29</td>\n",
       "      <td>0</td>\n",
       "      <td>266</td>\n",
       "      <td>351</td>\n",
       "      <td>31</td>\n",
       "      <td>0</td>\n",
       "    </tr>\n",
       "    <tr>\n",
       "      <th>2</th>\n",
       "      <td>Red</td>\n",
       "      <td>8</td>\n",
       "      <td>183</td>\n",
       "      <td>New York</td>\n",
       "      <td>64</td>\n",
       "      <td>0</td>\n",
       "      <td>0</td>\n",
       "      <td>233</td>\n",
       "      <td>672</td>\n",
       "      <td>32</td>\n",
       "      <td>1</td>\n",
       "    </tr>\n",
       "    <tr>\n",
       "      <th>3</th>\n",
       "      <td>Black</td>\n",
       "      <td>1</td>\n",
       "      <td>89</td>\n",
       "      <td>New York</td>\n",
       "      <td>66</td>\n",
       "      <td>23</td>\n",
       "      <td>94</td>\n",
       "      <td>281</td>\n",
       "      <td>167</td>\n",
       "      <td>21</td>\n",
       "      <td>0</td>\n",
       "    </tr>\n",
       "    <tr>\n",
       "      <th>4</th>\n",
       "      <td>Black</td>\n",
       "      <td>0</td>\n",
       "      <td>137</td>\n",
       "      <td>New York</td>\n",
       "      <td>40</td>\n",
       "      <td>35</td>\n",
       "      <td>168</td>\n",
       "      <td>431</td>\n",
       "      <td>2288</td>\n",
       "      <td>33</td>\n",
       "      <td>1</td>\n",
       "    </tr>\n",
       "  </tbody>\n",
       "</table>\n",
       "</div>"
      ],
      "text/plain": [
       "  Haircolor Pregnancies Glucose      City BloodPressure SkinThickness Insulin  \\\n",
       "0       Red           6     148  New York            72            35       0   \n",
       "1     Black           1      85  New York            66            29       0   \n",
       "2       Red           8     183  New York            64             0       0   \n",
       "3     Black           1      89  New York            66            23      94   \n",
       "4     Black           0     137  New York            40            35     168   \n",
       "\n",
       "   BMI DiabetesPedigreeFunction  Age Outcome  \n",
       "0  336                      627   50       1  \n",
       "1  266                      351   31       0  \n",
       "2  233                      672   32       1  \n",
       "3  281                      167   21       0  \n",
       "4  431                     2288   33       1  "
      ]
     },
     "execution_count": 19,
     "metadata": {},
     "output_type": "execute_result"
    }
   ],
   "source": [
    "# Mostrar los datos\n",
    "df_health.head()"
   ]
  },
  {
   "cell_type": "code",
   "execution_count": null,
   "id": "1a354ccd-5552-4aa2-a123-087d355573fa",
   "metadata": {
    "colab": {
     "base_uri": "https://localhost:8080/"
    },
    "id": "1a354ccd-5552-4aa2-a123-087d355573fa",
    "outputId": "2d9fe20c-ce5c-4595-a72a-efcb70f5badb"
   },
   "outputs": [
    {
     "data": {
      "text/plain": [
       "Haircolor                   object\n",
       "Pregnancies                 object\n",
       "Glucose                     object\n",
       "City                        object\n",
       "BloodPressure               object\n",
       "SkinThickness               object\n",
       "Insulin                     object\n",
       "BMI                          int64\n",
       "DiabetesPedigreeFunction    object\n",
       "Age                          int64\n",
       "Outcome                     object\n",
       "dtype: object"
      ]
     },
     "execution_count": 20,
     "metadata": {},
     "output_type": "execute_result"
    }
   ],
   "source": [
    "# Tipos de las variables.\n",
    "df_health.dtypes"
   ]
  },
  {
   "cell_type": "code",
   "execution_count": null,
   "id": "968edfe3-1044-4947-8999-8f4e670173e7",
   "metadata": {
    "colab": {
     "base_uri": "https://localhost:8080/",
     "height": 297
    },
    "id": "968edfe3-1044-4947-8999-8f4e670173e7",
    "outputId": "85885e9e-dd14-4e12-a5e9-ba95f38505d4"
   },
   "outputs": [
    {
     "data": {
      "text/html": [
       "<div>\n",
       "<style scoped>\n",
       "    .dataframe tbody tr th:only-of-type {\n",
       "        vertical-align: middle;\n",
       "    }\n",
       "\n",
       "    .dataframe tbody tr th {\n",
       "        vertical-align: top;\n",
       "    }\n",
       "\n",
       "    .dataframe thead th {\n",
       "        text-align: right;\n",
       "    }\n",
       "</style>\n",
       "<table border=\"1\" class=\"dataframe\">\n",
       "  <thead>\n",
       "    <tr style=\"text-align: right;\">\n",
       "      <th></th>\n",
       "      <th>BMI</th>\n",
       "      <th>Age</th>\n",
       "    </tr>\n",
       "  </thead>\n",
       "  <tbody>\n",
       "    <tr>\n",
       "      <th>count</th>\n",
       "      <td>768.000000</td>\n",
       "      <td>768.000000</td>\n",
       "    </tr>\n",
       "    <tr>\n",
       "      <th>mean</th>\n",
       "      <td>289.796875</td>\n",
       "      <td>38.011719</td>\n",
       "    </tr>\n",
       "    <tr>\n",
       "      <th>std</th>\n",
       "      <td>116.757554</td>\n",
       "      <td>117.825600</td>\n",
       "    </tr>\n",
       "    <tr>\n",
       "      <th>min</th>\n",
       "      <td>0.000000</td>\n",
       "      <td>21.000000</td>\n",
       "    </tr>\n",
       "    <tr>\n",
       "      <th>25%</th>\n",
       "      <td>251.750000</td>\n",
       "      <td>24.000000</td>\n",
       "    </tr>\n",
       "    <tr>\n",
       "      <th>50%</th>\n",
       "      <td>309.000000</td>\n",
       "      <td>29.000000</td>\n",
       "    </tr>\n",
       "    <tr>\n",
       "      <th>75%</th>\n",
       "      <td>359.000000</td>\n",
       "      <td>41.000000</td>\n",
       "    </tr>\n",
       "    <tr>\n",
       "      <th>max</th>\n",
       "      <td>671.000000</td>\n",
       "      <td>3256.000000</td>\n",
       "    </tr>\n",
       "  </tbody>\n",
       "</table>\n",
       "</div>"
      ],
      "text/plain": [
       "              BMI          Age\n",
       "count  768.000000   768.000000\n",
       "mean   289.796875    38.011719\n",
       "std    116.757554   117.825600\n",
       "min      0.000000    21.000000\n",
       "25%    251.750000    24.000000\n",
       "50%    309.000000    29.000000\n",
       "75%    359.000000    41.000000\n",
       "max    671.000000  3256.000000"
      ]
     },
     "execution_count": 21,
     "metadata": {},
     "output_type": "execute_result"
    }
   ],
   "source": [
    "# Descripción breve de los datos.\n",
    "df_health.describe()"
   ]
  },
  {
   "cell_type": "code",
   "execution_count": null,
   "id": "40f4e864-a1ee-4656-87f3-8cd895603315",
   "metadata": {
    "colab": {
     "base_uri": "https://localhost:8080/"
    },
    "id": "40f4e864-a1ee-4656-87f3-8cd895603315",
    "outputId": "a56353e5-d338-4f1d-b7b6-ac5ac0421b2a"
   },
   "outputs": [
    {
     "data": {
      "text/plain": [
       "Haircolor                   0\n",
       "BMI                         0\n",
       "Age                         0\n",
       "Pregnancies                 1\n",
       "Glucose                     1\n",
       "City                        1\n",
       "BloodPressure               1\n",
       "SkinThickness               1\n",
       "Insulin                     1\n",
       "DiabetesPedigreeFunction    1\n",
       "Outcome                     1\n",
       "dtype: int64"
      ]
     },
     "execution_count": 33,
     "metadata": {},
     "output_type": "execute_result"
    }
   ],
   "source": [
    "# Encontramos que dentro de los datos hay algunos valores '-', que deben ser tomados como valores nulos.\n",
    "df_health = df_health.replace('-', np.nan)\n",
    "df_health.isnull().sum().sort_values()"
   ]
  },
  {
   "cell_type": "code",
   "execution_count": null,
   "id": "76a62811-11a1-4e1d-b5c8-a555676cac09",
   "metadata": {
    "colab": {
     "base_uri": "https://localhost:8080/",
     "height": 282
    },
    "id": "76a62811-11a1-4e1d-b5c8-a555676cac09",
    "outputId": "1c344145-502e-4bcb-8437-ca6d8213f68b"
   },
   "outputs": [
    {
     "data": {
      "text/plain": [
       "<BarContainer object of 11 artists>"
      ]
     },
     "execution_count": 29,
     "metadata": {},
     "output_type": "execute_result"
    },
    {
     "data": {
      "image/png": "[encoded data removed]",
      "text/plain": [
       "<Figure size 432x288 with 1 Axes>"
      ]
     },
     "metadata": {
      "needs_background": "light"
     },
     "output_type": "display_data"
    }
   ],
   "source": [
    "# Aparentemente, existe una o más filas con valores nulos. Más adelante se depurarán dichos valores.\n",
    "df_plot = df_health.isnull().sum().sort_values()#/df_health.shape[0]\n",
    "plt.barh(df_plot.index, df_plot.values)"
   ]
  },
  {
   "cell_type": "code",
   "execution_count": null,
   "id": "4864d9de-1626-4b60-978e-b143fb1ea8f2",
   "metadata": {
    "colab": {
     "base_uri": "https://localhost:8080/",
     "height": 204
    },
    "id": "4864d9de-1626-4b60-978e-b143fb1ea8f2",
    "outputId": "10103b1d-b14f-48b0-afdd-0abad6143ca9"
   },
   "outputs": [
    {
     "data": {
      "text/html": [
       "<div>\n",
       "<style scoped>\n",
       "    .dataframe tbody tr th:only-of-type {\n",
       "        vertical-align: middle;\n",
       "    }\n",
       "\n",
       "    .dataframe tbody tr th {\n",
       "        vertical-align: top;\n",
       "    }\n",
       "\n",
       "    .dataframe thead th {\n",
       "        text-align: right;\n",
       "    }\n",
       "</style>\n",
       "<table border=\"1\" class=\"dataframe\">\n",
       "  <thead>\n",
       "    <tr style=\"text-align: right;\">\n",
       "      <th></th>\n",
       "      <th>Haircolor</th>\n",
       "      <th>Pregnancies</th>\n",
       "      <th>Glucose</th>\n",
       "      <th>BloodPressure</th>\n",
       "      <th>SkinThickness</th>\n",
       "      <th>Insulin</th>\n",
       "      <th>BMI</th>\n",
       "      <th>DiabetesPedigreeFunction</th>\n",
       "      <th>Age</th>\n",
       "      <th>Outcome</th>\n",
       "    </tr>\n",
       "  </thead>\n",
       "  <tbody>\n",
       "    <tr>\n",
       "      <th>0</th>\n",
       "      <td>2</td>\n",
       "      <td>6</td>\n",
       "      <td>148</td>\n",
       "      <td>72</td>\n",
       "      <td>35</td>\n",
       "      <td>0</td>\n",
       "      <td>336</td>\n",
       "      <td>627</td>\n",
       "      <td>50</td>\n",
       "      <td>1</td>\n",
       "    </tr>\n",
       "    <tr>\n",
       "      <th>1</th>\n",
       "      <td>0</td>\n",
       "      <td>1</td>\n",
       "      <td>85</td>\n",
       "      <td>66</td>\n",
       "      <td>29</td>\n",
       "      <td>0</td>\n",
       "      <td>266</td>\n",
       "      <td>351</td>\n",
       "      <td>31</td>\n",
       "      <td>0</td>\n",
       "    </tr>\n",
       "    <tr>\n",
       "      <th>2</th>\n",
       "      <td>2</td>\n",
       "      <td>8</td>\n",
       "      <td>183</td>\n",
       "      <td>64</td>\n",
       "      <td>0</td>\n",
       "      <td>0</td>\n",
       "      <td>233</td>\n",
       "      <td>672</td>\n",
       "      <td>32</td>\n",
       "      <td>1</td>\n",
       "    </tr>\n",
       "    <tr>\n",
       "      <th>3</th>\n",
       "      <td>0</td>\n",
       "      <td>1</td>\n",
       "      <td>89</td>\n",
       "      <td>66</td>\n",
       "      <td>23</td>\n",
       "      <td>94</td>\n",
       "      <td>281</td>\n",
       "      <td>167</td>\n",
       "      <td>21</td>\n",
       "      <td>0</td>\n",
       "    </tr>\n",
       "    <tr>\n",
       "      <th>4</th>\n",
       "      <td>0</td>\n",
       "      <td>0</td>\n",
       "      <td>137</td>\n",
       "      <td>40</td>\n",
       "      <td>35</td>\n",
       "      <td>168</td>\n",
       "      <td>431</td>\n",
       "      <td>2288</td>\n",
       "      <td>33</td>\n",
       "      <td>1</td>\n",
       "    </tr>\n",
       "  </tbody>\n",
       "</table>\n",
       "</div>"
      ],
      "text/plain": [
       "   Haircolor Pregnancies  Glucose  BloodPressure SkinThickness Insulin  BMI  \\\n",
       "0          2           6      148             72            35       0  336   \n",
       "1          0           1       85             66            29       0  266   \n",
       "2          2           8      183             64             0       0  233   \n",
       "3          0           1       89             66            23      94  281   \n",
       "4          0           0      137             40            35     168  431   \n",
       "\n",
       "  DiabetesPedigreeFunction  Age Outcome  \n",
       "0                      627   50       1  \n",
       "1                      351   31       0  \n",
       "2                      672   32       1  \n",
       "3                      167   21       0  \n",
       "4                     2288   33       1  "
      ]
     },
     "execution_count": 31,
     "metadata": {},
     "output_type": "execute_result"
    }
   ],
   "source": [
    "# Se efectua una copia de seguridad del df.\n",
    "df_health_c = df_health.copy()\n",
    "\n",
    "# Depuración de los datos según las condiciones de las variables y transformación de los tipos de variables.\n",
    "\n",
    "# Se elimina todo registro que contenga valores nulos representados por '-'.\n",
    "df_health_c=df_health_c.dropna()\n",
    "\n",
    "# Hair Color. Variable categórica, se transforma a valores numéricos: Black -> 0, Blue -> 1, Red -> 2.\n",
    "df_health_c['Haircolor'] = pd.Categorical(df_health_c['Haircolor'])\n",
    "df_health_c['Haircolor'] = df_health_c['Haircolor'].cat.codes\n",
    "\n",
    "# Glucose. Variable cuantitativa, se filtran valores mayores a 0. \n",
    "df_health_c['Glucose'] = pd.to_numeric(df_health_c['Glucose'])\n",
    "df_health_c = df_health_c.loc[df_health_c['Glucose'] > 0]\n",
    "\n",
    "# City. Variable cualitativa, dado que toda la columna solo tiene un valor 'New York', se elimina la columna \n",
    "# pues no es significativa en ningún modelo.\n",
    "df_health_c = df_health_c.drop(['City'], axis=1)\n",
    "\n",
    "# BloodPressure. Variable cuantitativa, se filtran valores mayores a 0. \n",
    "df_health_c['BloodPressure'] = pd.to_numeric(df_health_c['BloodPressure'])\n",
    "df_health_c = df_health_c.loc[df_health_c['BloodPressure'] > 0]\n",
    "\n",
    "# Las variables SkinThickness, Pregnancies, Insulin, BMI, DiabetesPedigreeFunction, Age, Outcome no presentan anomalías \n",
    "# y no requieren ningún tipo de modificacion en los datos. \n",
    "\n",
    "# OJOOO: En age hay valores demasiado grandes?! 450 años Y 3256 años? Para revisar.\n",
    "# Revisar si las otras variables tienen valores dentro de una cota con sentido. (Se encuentren en un intervalo adecuado).\n",
    "\n",
    "# TODO: Cambiar categoría de las variables. Revisar categóricas en SkLearn.\n",
    "\n",
    "# Cantidad de datos y número de variables\n",
    "df_health_c.head()"
   ]
  },
  {
   "cell_type": "code",
   "execution_count": null,
   "id": "4702ea94-ebe5-4d6b-9884-9cffa9654dba",
   "metadata": {
    "colab": {
     "base_uri": "https://localhost:8080/"
    },
    "id": "4702ea94-ebe5-4d6b-9884-9cffa9654dba",
    "outputId": "7feceaab-1822-44fd-9187-4eefe01dc226"
   },
   "outputs": [
    {
     "data": {
      "text/plain": [
       "(727, 10)"
      ]
     },
     "execution_count": 32,
     "metadata": {},
     "output_type": "execute_result"
    }
   ],
   "source": [
    "# Nuevo tamaño y dimensiones de los datos.\n",
    "df_health_c.shape"
   ]
  }
 ],
 "metadata": {
  "colab": {
   "collapsed_sections": [],
   "name": "Lab1_ee.ortiz_mc.parrad_sj.zona.ipynb",
   "provenance": []
  },
  "kernelspec": {
   "display_name": "Python 3",
   "language": "python",
   "name": "python3"
  },
  "language_info": {
   "codemirror_mode": {
    "name": "ipython",
    "version": 3
   },
   "file_extension": ".py",
   "mimetype": "text/x-python",
   "name": "python",
   "nbconvert_exporter": "python",
   "pygments_lexer": "ipython3",
   "version": "3.8.8"
  }
 },
 "nbformat": 4,
 "nbformat_minor": 5
}
